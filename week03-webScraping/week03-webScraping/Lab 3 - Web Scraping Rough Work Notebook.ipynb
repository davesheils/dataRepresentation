{
 "cells": [
  {
   "cell_type": "markdown",
   "metadata": {},
   "source": [
    "## Data Representation - Web Scraping"
   ]
  },
  {
   "cell_type": "code",
   "execution_count": 1,
   "metadata": {},
   "outputs": [
    {
     "name": "stdout",
     "output_type": "stream",
     "text": [
      "--------------------\n",
      "<!DOCTYPE html>\n",
      "<html>\n",
      " <head>\n",
      "  <title>\n",
      "   A simple example page\n",
      "  </title>\n",
      " </head>\n",
      " <body>\n",
      "  <p>\n",
      "   Here is some simple content for this page.\n",
      "  </p>\n",
      " </body>\n",
      "</html>\n"
     ]
    }
   ],
   "source": [
    "# (1) Test that we can recieve a web page form the web and (s) Use Beautiful Soup to format output\n",
    "\n",
    "import requests\n",
    "from bs4 import BeautifulSoup\n",
    "page = requests.get(\"http://dataquestio.github.io/web-scraping-pages/simple.html\")\n",
    "soup1 = BeautifulSoup(page.content, 'html.parser') ## reads web page and converts to a DOM tree\n",
    "print(\"--------------------\")\n",
    "print(page.content) \n",
    "print(soup1.prettify())"
   ]
  },
  {
   "cell_type": "code",
   "execution_count": null,
   "metadata": {},
   "outputs": [],
   "source": []
  },
  {
   "cell_type": "code",
   "execution_count": 2,
   "metadata": {},
   "outputs": [
    {
     "name": "stdout",
     "output_type": "stream",
     "text": [
      "<!DOCTYPE html>\n",
      "<html>\n",
      " <head>\n",
      "  <title>\n",
      "   View Cars\n",
      "  </title>\n",
      "  <link crossorigin=\"anonymous\" href=\"https://stackpath.bootstrapcdn.com/bootstrap/4.3.1/css/bootstrap.min.css\" integrity=\"sha384-ggOyR0iXCbMQv3Xipma34MD+dH/1fQ784/j6cY/iJTQUOhcWr7x9JvoRxT2MZw1T\" rel=\"stylesheet\"/>\n",
      "  <script crossorigin=\"anonymous\" integrity=\"sha384-q8i/X+965DzO0rT7abK41JStQIAqVgRVzpbzo5smXKp4YfRvH+8abtTE1Pi6jizo\" src=\"https://code.jquery.com/jquery-3.3.1.slim.min.js\">\n",
      "  </script>\n",
      "  <script crossorigin=\"anonymous\" integrity=\"sha384-UO2eT0CpHqdSJQ6hJty5KVphtPhzWj9WO1clHTMGa3JDZwrnQq4sF86dIHNDz0W1\" src=\"https://cdnjs.cloudflare.com/ajax/libs/popper.js/1.14.7/umd/popper.min.js\">\n",
      "  </script>\n",
      "  <script crossorigin=\"anonymous\" integrity=\"sha384-JjSmVgyd0p3pXB1rRibZUAYoIIy6OrQ6VrjIEaFf/nJGzIxFDsf4x0xIM+B07jRM\" src=\"https://stackpath.bootstrapcdn.com/bootstrap/4.3.1/js/bootstrap.min.js\">\n",
      "  </script>\n",
      " </head>\n",
      " <div class=\"header\">\n",
      "  <h1>\n",
      "   Cars\n",
      "  </h1>\n",
      " </div>\n",
      " <h1>\n",
      "  All Cars\n",
      " </h1>\n",
      " <div>\n",
      "  <button>\n",
      "   Create\n",
      "  </button>\n",
      " </div>\n",
      " <div>\n",
      "  <table class=\"table\">\n",
      "   <tr>\n",
      "    <th>\n",
      "     reg\n",
      "    </th>\n",
      "    <th>\n",
      "     make\n",
      "    </th>\n",
      "    <th>\n",
      "     model\n",
      "    </th>\n",
      "    <th>\n",
      "     price\n",
      "    </th>\n",
      "    <th>\n",
      "     Update\n",
      "    </th>\n",
      "    <th>\n",
      "     Delete\n",
      "    </th>\n",
      "   </tr>\n",
      "   <tr>\n",
      "    <td>\n",
      "     191-M0-123\n",
      "    </td>\n",
      "    <td>\n",
      "     Ford\n",
      "    </td>\n",
      "    <td>\n",
      "     Mondeo\n",
      "    </td>\n",
      "    <td>\n",
      "     25,000\n",
      "    </td>\n",
      "    <td>\n",
      "     <button>\n",
      "      update\n",
      "     </button>\n",
      "    </td>\n",
      "    <td>\n",
      "     <button>\n",
      "      delete\n",
      "     </button>\n",
      "    </td>\n",
      "   </tr>\n",
      "   <tr>\n",
      "    <td>\n",
      "     12-D-123\n",
      "    </td>\n",
      "    <td>\n",
      "     Fiat\n",
      "    </td>\n",
      "    <td>\n",
      "     Punto\n",
      "    </td>\n",
      "    <td>\n",
      "     4,000\n",
      "    </td>\n",
      "    <td>\n",
      "     <button>\n",
      "      update\n",
      "     </button>\n",
      "    </td>\n",
      "    <td>\n",
      "     <button>\n",
      "      delete\n",
      "     </button>\n",
      "    </td>\n",
      "   </tr>\n",
      "   <tr>\n",
      "    <td>\n",
      "     08-G-123\n",
      "    </td>\n",
      "    <td>\n",
      "     Nissan\n",
      "    </td>\n",
      "    <td>\n",
      "     Almera\n",
      "    </td>\n",
      "    <td>\n",
      "     500\n",
      "    </td>\n",
      "    <td>\n",
      "     <button>\n",
      "      update\n",
      "     </button>\n",
      "    </td>\n",
      "    <td>\n",
      "     <button>\n",
      "      delete\n",
      "     </button>\n",
      "    </td>\n",
      "   </tr>\n",
      "  </table>\n",
      " </div>\n",
      " <h2>\n",
      "  <span>\n",
      "   Create a\n",
      "  </span>\n",
      "  <span>\n",
      "   Update this\n",
      "  </span>\n",
      "  Car\n",
      " </h2>\n",
      " <div>\n",
      "  <form>\n",
      "   <div class=\"form-group\">\n",
      "    Reg:\n",
      "    <input class=\"form-control\" name=\"reg\" type=\"text\"/>\n",
      "    <br/>\n",
      "    Make:\n",
      "    <select class=\"form-control\" name=\"make\">\n",
      "     <option selected=\"selected\" value=\"Ford\">\n",
      "      Ford\n",
      "     </option>\n",
      "     <option value=\"Fiat\">\n",
      "      Fiat\n",
      "     </option>\n",
      "     <option value=\"Nissan\">\n",
      "      Nissan\n",
      "     </option>\n",
      "    </select>\n",
      "    <br/>\n",
      "    Model\n",
      "    <input class=\"form-control\" name=\"model\" type=\"text\"/>\n",
      "    <br/>\n",
      "    Price:\n",
      "    <input class=\"form-control\" name=\"price\" type=\"text\"/>\n",
      "    <br/>\n",
      "   </div>\n",
      "  </form>\n",
      " </div>\n",
      " <span>\n",
      "  <button>\n",
      "   Create\n",
      "  </button>\n",
      " </span>\n",
      " <span>\n",
      "  <button>\n",
      "   Update\n",
      "  </button>\n",
      " </span>\n",
      "</html>\n",
      "\n"
     ]
    }
   ],
   "source": [
    "# (3) Read from File: Lab2.html (aka car viewer)\n",
    "\n",
    "with open(\"lab1.html\") as fp:\n",
    "    soup = BeautifulSoup(fp, 'html.parser')\n",
    "\n",
    "print(soup.prettify())"
   ]
  },
  {
   "cell_type": "code",
   "execution_count": 3,
   "metadata": {},
   "outputs": [
    {
     "name": "stdout",
     "output_type": "stream",
     "text": [
      "<tr>\n",
      "<th>reg</th>\n",
      "<th>make</th>\n",
      "<th>model</th>\n",
      "<th>price</th>\n",
      "<th>Update</th>\n",
      "<th>Delete</th>\n",
      "</tr>\n"
     ]
    }
   ],
   "source": [
    "# 4 Extract the first <tr> i.e the first table row from the file\n",
    "\n",
    "print(soup.tr)"
   ]
  },
  {
   "cell_type": "code",
   "execution_count": 4,
   "metadata": {},
   "outputs": [
    {
     "name": "stdout",
     "output_type": "stream",
     "text": [
      "------\n",
      "<tr>\n",
      "<th>reg</th>\n",
      "<th>make</th>\n",
      "<th>model</th>\n",
      "<th>price</th>\n",
      "<th>Update</th>\n",
      "<th>Delete</th>\n",
      "</tr>\n",
      "------\n",
      "<tr>\n",
      "<td>191-M0-123</td>\n",
      "<td>Ford</td>\n",
      "<td>Mondeo</td>\n",
      "<td>25,000</td>\n",
      "<td><button>update</button></td>\n",
      "<td><button>delete</button></td>\n",
      "</tr>\n",
      "------\n",
      "<tr>\n",
      "<td>12-D-123</td>\n",
      "<td>Fiat</td>\n",
      "<td>Punto</td>\n",
      "<td>4,000</td>\n",
      "<td><button>update</button></td>\n",
      "<td><button>delete</button></td>\n",
      "</tr>\n",
      "------\n",
      "<tr>\n",
      "<td>08-G-123</td>\n",
      "<td>Nissan</td>\n",
      "<td>Almera</td>\n",
      "<td>500</td>\n",
      "<td><button>update</button></td>\n",
      "<td><button>delete</button></td>\n",
      "</tr>\n"
     ]
    }
   ],
   "source": [
    "# But .. this is not what we really want, so ...\n",
    "# modify the program to get all the table rows (<tr>)\n",
    "\n",
    "rows = soup.findAll(\"tr\")\n",
    "for row in rows:\n",
    "    print(\"------\")\n",
    "    print(row)"
   ]
  },
  {
   "cell_type": "code",
   "execution_count": null,
   "metadata": {},
   "outputs": [],
   "source": [
    "# Thats better!"
   ]
  },
  {
   "cell_type": "code",
   "execution_count": 5,
   "metadata": {},
   "outputs": [
    {
     "name": "stdout",
     "output_type": "stream",
     "text": [
      "191-M0-123\n",
      "Ford\n",
      "Mondeo\n",
      "25,000\n",
      "update\n",
      "delete\n",
      "12-D-123\n",
      "Fiat\n",
      "Punto\n",
      "4,000\n",
      "update\n",
      "delete\n",
      "08-G-123\n",
      "Nissan\n",
      "Almera\n",
      "500\n",
      "update\n",
      "delete\n"
     ]
    }
   ],
   "source": [
    "# 6: Now, for each row, get the contents of the <td> (table data)\n",
    "\n",
    "for row in rows:\n",
    "    cols = row.findAll(\"td\")\n",
    "    for col in cols:\n",
    "        print(col.text)\n",
    "        "
   ]
  },
  {
   "cell_type": "code",
   "execution_count": 6,
   "metadata": {},
   "outputs": [
    {
     "name": "stdout",
     "output_type": "stream",
     "text": [
      "['191-M0-123', 'Ford', 'Mondeo', '25,000', 'update', 'delete', '12-D-123', 'Fiat', 'Punto', '4,000', 'update', 'delete', '08-G-123', 'Nissan', 'Almera', '500', 'update', 'delete']\n",
      "['191-M0-123', 'Ford', 'Mondeo', '25,000', 'update', 'delete', '12-D-123', 'Fiat', 'Punto', '4,000', 'update', 'delete', '08-G-123', 'Nissan', 'Almera', '500', 'update', 'delete']\n",
      "['191-M0-123', 'Ford', 'Mondeo', '25,000', 'update', 'delete', '12-D-123', 'Fiat', 'Punto', '4,000', 'update', 'delete', '08-G-123', 'Nissan', 'Almera', '500', 'update', 'delete']\n",
      "['191-M0-123', 'Ford', 'Mondeo', '25,000', 'update', 'delete', '12-D-123', 'Fiat', 'Punto', '4,000', 'update', 'delete', '08-G-123', 'Nissan', 'Almera', '500', 'update', 'delete']\n"
     ]
    }
   ],
   "source": [
    "# 7. Modify this so that the text in the columns are stored in a list\n",
    "\n",
    "dataset = []\n",
    "dataList = []\n",
    "\n",
    "for row in rows:\n",
    "    cols = row.findAll(\"td\")\n",
    "    for col in cols:\n",
    "        # print(col)\n",
    "        dataList.append(col.text)\n",
    "    dataset.append(dataList)\n",
    "\n",
    "for line in dataset:\n",
    "    print(line)\n",
    "        \n",
    "\n"
   ]
  },
  {
   "cell_type": "code",
   "execution_count": 34,
   "metadata": {},
   "outputs": [],
   "source": [
    "# 8. write to CSV\n",
    "\n",
    "import csv\n",
    "\n",
    "car_file = open('car_file.csv', mode = 'w')\n",
    "car_writer = csv.writer(car_file, delimiter = ',', quotechar = '\"', quoting = csv.QUOTE_MINIMAL)\n",
    "\n",
    "for row in dataset:\n",
    "    car_writer.writerow(row)\n",
    "car_file.close()    \n",
    "    "
   ]
  },
  {
   "cell_type": "markdown",
   "metadata": {},
   "source": [
    "### Bringing it all together: create single program, debug, save as .py file and add to git hub repository"
   ]
  },
  {
   "cell_type": "code",
   "execution_count": 43,
   "metadata": {},
   "outputs": [],
   "source": [
    "# Read data from lab2.html and store data in csv\n",
    "\n",
    "# do not add update or delete\n",
    "\n",
    "# Import libraries\n",
    "# Read data from lab2.html (aka carViewer) and store data in csv\n",
    "\n",
    "# do not add update or delete\n",
    "\n",
    "# Import libraries\n",
    "\n",
    "import requests\n",
    "from bs4 import BeautifulSoup\n",
    "import csv\n",
    "\n",
    "# Connect to lab1.html\n",
    "with open(\"lab1.html\") as fp:\n",
    "    soup = BeautifulSoup(fp, 'html.parser')\n",
    "\n",
    "# open csv file\n",
    "\n",
    "car_file = open('car_file.csv', mode = 'w')\n",
    "car_writer = csv.writer(car_file, delimiter = ',', quotechar = '\"', quoting = csv.QUOTE_MINIMAL)\n",
    "\n",
    "# scrape data from table rows\n",
    "rows = soup.findAll(\"tr\")\n",
    "\n",
    "for row in rows:\n",
    "    cols = row.findAll(\"td\")\n",
    "\n",
    "dataList = []\n",
    "    # need to modify following so that update and delete not added \n",
    "    for col in cols:\n",
    "        dataList.append(col.text)\n",
    "    car_writer.writerow(dataList)\n",
    "\n",
    "car_file.close()  \n",
    "\n"
   ]
  },
  {
   "cell_type": "code",
   "execution_count": 44,
   "metadata": {},
   "outputs": [
    {
     "name": "stdout",
     "output_type": "stream",
     "text": [
      "['08-G-123', 'Nissan', 'Almera', '500']\n"
     ]
    }
   ],
   "source": [
    "\n",
    "list = []\n",
    "\n",
    "for i in range (0,4):\n",
    "    list.append(cols[i].text)\n",
    "    \n",
    "print(list)"
   ]
  },
  {
   "cell_type": "code",
   "execution_count": 45,
   "metadata": {},
   "outputs": [
    {
     "name": "stdout",
     "output_type": "stream",
     "text": [
      "[]\n",
      "['191-M0-123', 'Ford', 'Mondeo', '25,000', 'update', 'delete']\n",
      "['12-D-123', 'Fiat', 'Punto', '4,000', 'update', 'delete']\n",
      "['08-G-123', 'Nissan', 'Almera', '500', 'update', 'delete']\n"
     ]
    }
   ],
   "source": [
    "with open(\"car_file.csv\") as f:\n",
    "    reader = csv.reader(f)\n",
    "    for row in reader:\n",
    "        print(row)\n",
    "\n",
    "        \n",
    "        \n",
    "car_file.close()"
   ]
  },
  {
   "cell_type": "code",
   "execution_count": null,
   "metadata": {},
   "outputs": [],
   "source": [
    "# Note there is a blank first row"
   ]
  }
 ],
 "metadata": {
  "kernelspec": {
   "display_name": "Python 3",
   "language": "python",
   "name": "python3"
  },
  "language_info": {
   "codemirror_mode": {
    "name": "ipython",
    "version": 3
   },
   "file_extension": ".py",
   "mimetype": "text/x-python",
   "name": "python",
   "nbconvert_exporter": "python",
   "pygments_lexer": "ipython3",
   "version": "3.6.8"
  }
 },
 "nbformat": 4,
 "nbformat_minor": 2
}
