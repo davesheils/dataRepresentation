{
 "cells": [
  {
   "cell_type": "code",
   "execution_count": 7,
   "metadata": {},
   "outputs": [
    {
     "name": "stdout",
     "output_type": "stream",
     "text": [
      "('CD', 'Scott 4', 'Walker, Scott', 'Pop', '5', '10.99', '')\n",
      "('CD', 'OK Computer', 'Radiohead', 'Alternative', '6', '10.99', '')\n",
      "('CD', 'Kick Inside, The', 'Bush, Kate', 'Pop', '7', '9.99', '')\n",
      "('CD', 'Yound Americans', 'Bowie, David', 'Rock', '4', '9.99', '')\n",
      "('CD', 'Shamal', 'Gong', 'Rock', '2', '8.99', '')\n",
      "('CD', 'Roxy Music/For Your Pleasure (double)', 'Roxy Music', 'Rock', '1', '12.99', '')\n",
      "('Book', 'Milkman', 'Burns, Anna', 'Fiction', '6', '12.99', '')\n",
      "('Book', 'First Love, Last Rights', 'McEwan, Ian', 'Fiction', '2', '12.99', '')\n",
      "('Book', 'Assination of Margaret Thatcher, The', 'Mantel, Hilary', 'Fiction', '1', '15.99', '')\n",
      "('Book', 'Conversations with Friends', 'Rooney, Sally', 'Fiction', '4', '12.99', '')\n",
      "('Book', 'From a Low and Quiet Sea', 'Ryan, Donal', 'Fiction', '3', '12.99', '')\n",
      "('Vinyl LP', 'Trespass', 'Genesis', 'Rock', '1', '15.99', '')\n",
      "('Vinyl LP', 'Then Play oN', 'Fleetwood Mac', 'Rock', '1', '18.99', '')\n",
      "('Vinyl LP', '1967 - 1970', 'Beatles, the', 'Rock', '4', '49.99', '')\n",
      "('Vinyl LP', \"Who's Next (Deluxe)\", 'Who, the', 'Rock', '3', '35.99', '')\n",
      "('Vinyl LP', 'Quadrophenia', 'Who, the', 'Rock', '2', '35.99', '')\n",
      "('Vinyl LP', 'Harmony of Difference', 'Washington, Kamasi', 'Jazz', '4', '12.99', '')\n",
      "('Vinyl LP', 'Weather Report', 'Weather Report', 'Jazz', '2', '25.99', '')\n",
      "('Vinyl LP', 'Components', 'Bobby Hutcherson', 'Jazz', '3', '25.99', '')\n",
      "('Vinyl LP', 'Heaven and earth and the Stars', 'Lulu', 'Pop', '3', '29.99', '')\n"
     ]
    }
   ],
   "source": [
    "import csv\n",
    "\n",
    "with open(\"stock.csv\") as f:\n",
    "    stock = [tuple(line) for line in csv.reader(f)]\n",
    "    \n",
    "for item in stock[1:]:\n",
    "    print(item)"
   ]
  },
  {
   "cell_type": "code",
   "execution_count": 4,
   "metadata": {},
   "outputs": [
    {
     "data": {
      "text/plain": [
       "[('CD', 'Scott 4', 'Walker, Scott', 'Pop', '5', '10.99', ''),\n",
       " ('CD', 'OK Computer', 'Radiohead', 'Alternative', '6', '10.99', ''),\n",
       " ('CD', 'Kick Inside, The', 'Bush, Kate', 'Pop', '7', '9.99', ''),\n",
       " ('CD', 'Yound Americans', 'Bowie, David', 'Rock', '4', '9.99', ''),\n",
       " ('CD', 'Shamal', 'Gong', 'Rock', '2', '8.99', ''),\n",
       " ('CD',\n",
       "  'Roxy Music/For Your Pleasure (double)',\n",
       "  'Roxy Music',\n",
       "  'Rock',\n",
       "  '1',\n",
       "  '12.99',\n",
       "  ''),\n",
       " ('Book', 'Milkman', 'Burns, Anna', 'Fiction', '6', '12.99', ''),\n",
       " ('Book',\n",
       "  'First Love, Last Rights',\n",
       "  'McEwan, Ian',\n",
       "  'Fiction',\n",
       "  '2',\n",
       "  '12.99',\n",
       "  ''),\n",
       " ('Book',\n",
       "  'Assination of Margaret Thatcher, The',\n",
       "  'Mantel, Hilary',\n",
       "  'Fiction',\n",
       "  '1',\n",
       "  '15.99',\n",
       "  ''),\n",
       " ('Book',\n",
       "  'Conversations with Friends',\n",
       "  'Rooney, Sally',\n",
       "  'Fiction',\n",
       "  '4',\n",
       "  '12.99',\n",
       "  ''),\n",
       " ('Book',\n",
       "  'From a Low and Quiet Sea',\n",
       "  'Ryan, Donal',\n",
       "  'Fiction',\n",
       "  '3',\n",
       "  '12.99',\n",
       "  ''),\n",
       " ('Vinyl LP', 'Trespass', 'Genesis', 'Rock', '1', '15.99', ''),\n",
       " ('Vinyl LP', 'Then Play oN', 'Fleetwood Mac', 'Rock', '1', '18.99', ''),\n",
       " ('Vinyl LP', '1967 - 1970', 'Beatles, the', 'Rock', '4', '49.99', ''),\n",
       " ('Vinyl LP', \"Who's Next (Deluxe)\", 'Who, the', 'Rock', '3', '35.99', ''),\n",
       " ('Vinyl LP', 'Quadrophenia', 'Who, the', 'Rock', '2', '35.99', ''),\n",
       " ('Vinyl LP',\n",
       "  'Harmony of Difference',\n",
       "  'Washington, Kamasi',\n",
       "  'Jazz',\n",
       "  '4',\n",
       "  '12.99',\n",
       "  ''),\n",
       " ('Vinyl LP', 'Weather Report', 'Weather Report', 'Jazz', '2', '25.99', ''),\n",
       " ('Vinyl LP', 'Components', 'Bobby Hutcherson', 'Jazz', '3', '25.99', ''),\n",
       " ('Vinyl LP',\n",
       "  'Heaven and earth and the Stars',\n",
       "  'Lulu',\n",
       "  'Pop',\n",
       "  '3',\n",
       "  '29.99',\n",
       "  '')]"
      ]
     },
     "execution_count": 4,
     "metadata": {},
     "output_type": "execute_result"
    }
   ],
   "source": []
  },
  {
   "cell_type": "code",
   "execution_count": null,
   "metadata": {},
   "outputs": [],
   "source": []
  }
 ],
 "metadata": {
  "kernelspec": {
   "display_name": "Python 3",
   "language": "python",
   "name": "python3"
  },
  "language_info": {
   "codemirror_mode": {
    "name": "ipython",
    "version": 3
   },
   "file_extension": ".py",
   "mimetype": "text/x-python",
   "name": "python",
   "nbconvert_exporter": "python",
   "pygments_lexer": "ipython3",
   "version": "3.6.9"
  }
 },
 "nbformat": 4,
 "nbformat_minor": 2
}
