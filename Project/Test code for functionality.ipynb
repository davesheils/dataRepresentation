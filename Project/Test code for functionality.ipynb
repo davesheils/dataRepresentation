{
 "cells": [
  {
   "cell_type": "code",
   "execution_count": 13,
   "metadata": {},
   "outputs": [
    {
     "name": "stdout",
     "output_type": "stream",
     "text": [
      "('CD', 'Scott 4', 'Walker, Scott', 'Pop', '5', '10.99', '')\n",
      "('CD', 'OK Computer', 'Radiohead', 'Alternative', '6', '10.99', '')\n",
      "('CD', 'Kick Inside, The', 'Bush, Kate', 'Pop', '7', '9.99', '')\n",
      "('CD', 'Yound Americans', 'Bowie, David', 'Rock', '4', '9.99', '')\n",
      "('CD', 'Shamal', 'Gong', 'Rock', '2', '8.99', '')\n",
      "('CD', 'Roxy Music/For Your Pleasure (double)', 'Roxy Music', 'Rock', '1', '12.99', '')\n",
      "('Book', 'Milkman', 'Burns, Anna', 'Fiction', '6', '12.99', '')\n",
      "('Book', 'First Love, Last Rights', 'McEwan, Ian', 'Fiction', '2', '12.99', '')\n",
      "('Book', 'Assination of Margaret Thatcher, The', 'Mantel, Hilary', 'Fiction', '1', '15.99', '')\n",
      "('Book', 'Conversations with Friends', 'Rooney, Sally', 'Fiction', '4', '12.99', '')\n",
      "('Book', 'From a Low and Quiet Sea', 'Ryan, Donal', 'Fiction', '3', '12.99', '')\n",
      "('Vinyl LP', 'Trespass', 'Genesis', 'Rock', '1', '15.99', '')\n",
      "('Vinyl LP', 'Then Play oN', 'Fleetwood Mac', 'Rock', '1', '18.99', '')\n",
      "('Vinyl LP', '1967 - 1970', 'Beatles, the', 'Rock', '4', '49.99', '')\n",
      "('Vinyl LP', \"Who's Next (Deluxe)\", 'Who, the', 'Rock', '3', '35.99', '')\n",
      "('Vinyl LP', 'Quadrophenia', 'Who, the', 'Rock', '2', '35.99', '')\n",
      "('Vinyl LP', 'Harmony of Difference', 'Washington, Kamasi', 'Jazz', '4', '12.99', '')\n",
      "('Vinyl LP', 'Weather Report', 'Weather Report', 'Jazz', '2', '25.99', '')\n",
      "('Vinyl LP', 'Components', 'Bobby Hutcherson', 'Jazz', '3', '25.99', '')\n",
      "('Vinyl LP', 'Heaven and earth and the Stars', 'Lulu', 'Pop', '3', '29.99', '')\n"
     ]
    }
   ],
   "source": [
    "import csv\n",
    "\n",
    "with open(\"stock.csv\") as f:\n",
    "    stock = [tuple(line) for line in csv.reader(f)]\n",
    "for item in stock[1:]:\n",
    "    print (item)"
   ]
  },
  {
   "cell_type": "code",
   "execution_count": 14,
   "metadata": {},
   "outputs": [
    {
     "name": "stdout",
     "output_type": "stream",
     "text": [
      "('CD', 'Scott 4', 'Walker, Scott', 'Pop', '5', '10.99', '')\n"
     ]
    }
   ],
   "source": [
    "row = stock[1]\n",
    "print(row)"
   ]
  },
  {
   "cell_type": "code",
   "execution_count": 15,
   "metadata": {},
   "outputs": [
    {
     "name": "stdout",
     "output_type": "stream",
     "text": [
      "{'Type': 'CD', 'Title': 'Scott 4', 'Artist_Author': 'Walker, Scott', 'Genre': 'Pop', 'Quantity': '5', 'Price': '10.99', 'Discogs_GoodReadsID': ''}\n"
     ]
    }
   ],
   "source": [
    "# convert to a dictionary object\n",
    "\n",
    "# single item\n",
    "cols = ['Type', 'Title', 'Artist_Author',  'Genre',  'Quantity', 'Price', 'Discogs_GoodReadsID']\n",
    "\n",
    "item = {}\n",
    "for i, col in enumerate(cols):\n",
    "    value = row[i]\n",
    "    item[col] = value\n",
    "\n",
    "print(item)"
   ]
  },
  {
   "cell_type": "code",
   "execution_count": 16,
   "metadata": {},
   "outputs": [],
   "source": [
    "def convertToDictionary(row):\n",
    "    cols = ['Type', 'Title', 'Artist_Author',  'Genre',  'Quantity', 'Price', 'Discogs_GoodReadsID']\n",
    "    item = {}\n",
    "    for i, col in enumerate(cols):\n",
    "        value = row[i]\n",
    "        item[col] = value\n",
    "    return(item)"
   ]
  },
  {
   "cell_type": "code",
   "execution_count": 17,
   "metadata": {},
   "outputs": [
    {
     "name": "stdout",
     "output_type": "stream",
     "text": [
      "{'Type': 'CD', 'Title': 'Scott 4', 'Artist_Author': 'Walker, Scott', 'Genre': 'Pop', 'Quantity': '5', 'Price': '10.99', 'Discogs_GoodReadsID': ''}\n"
     ]
    }
   ],
   "source": [
    "x = stock[1]\n",
    "print(convertToDictionary(x))"
   ]
  },
  {
   "cell_type": "code",
   "execution_count": 18,
   "metadata": {},
   "outputs": [
    {
     "name": "stdout",
     "output_type": "stream",
     "text": [
      "{'Type': 'CD', 'Title': 'Scott 4', 'Artist_Author': 'Walker, Scott', 'Genre': 'Pop', 'Quantity': '5', 'Price': '10.99', 'Discogs_GoodReadsID': ''}\n",
      "{'Type': 'CD', 'Title': 'OK Computer', 'Artist_Author': 'Radiohead', 'Genre': 'Alternative', 'Quantity': '6', 'Price': '10.99', 'Discogs_GoodReadsID': ''}\n",
      "{'Type': 'CD', 'Title': 'Kick Inside, The', 'Artist_Author': 'Bush, Kate', 'Genre': 'Pop', 'Quantity': '7', 'Price': '9.99', 'Discogs_GoodReadsID': ''}\n",
      "{'Type': 'CD', 'Title': 'Yound Americans', 'Artist_Author': 'Bowie, David', 'Genre': 'Rock', 'Quantity': '4', 'Price': '9.99', 'Discogs_GoodReadsID': ''}\n",
      "{'Type': 'CD', 'Title': 'Shamal', 'Artist_Author': 'Gong', 'Genre': 'Rock', 'Quantity': '2', 'Price': '8.99', 'Discogs_GoodReadsID': ''}\n",
      "{'Type': 'CD', 'Title': 'Roxy Music/For Your Pleasure (double)', 'Artist_Author': 'Roxy Music', 'Genre': 'Rock', 'Quantity': '1', 'Price': '12.99', 'Discogs_GoodReadsID': ''}\n",
      "{'Type': 'Book', 'Title': 'Milkman', 'Artist_Author': 'Burns, Anna', 'Genre': 'Fiction', 'Quantity': '6', 'Price': '12.99', 'Discogs_GoodReadsID': ''}\n",
      "{'Type': 'Book', 'Title': 'First Love, Last Rights', 'Artist_Author': 'McEwan, Ian', 'Genre': 'Fiction', 'Quantity': '2', 'Price': '12.99', 'Discogs_GoodReadsID': ''}\n",
      "{'Type': 'Book', 'Title': 'Assination of Margaret Thatcher, The', 'Artist_Author': 'Mantel, Hilary', 'Genre': 'Fiction', 'Quantity': '1', 'Price': '15.99', 'Discogs_GoodReadsID': ''}\n",
      "{'Type': 'Book', 'Title': 'Conversations with Friends', 'Artist_Author': 'Rooney, Sally', 'Genre': 'Fiction', 'Quantity': '4', 'Price': '12.99', 'Discogs_GoodReadsID': ''}\n",
      "{'Type': 'Book', 'Title': 'From a Low and Quiet Sea', 'Artist_Author': 'Ryan, Donal', 'Genre': 'Fiction', 'Quantity': '3', 'Price': '12.99', 'Discogs_GoodReadsID': ''}\n",
      "{'Type': 'Vinyl LP', 'Title': 'Trespass', 'Artist_Author': 'Genesis', 'Genre': 'Rock', 'Quantity': '1', 'Price': '15.99', 'Discogs_GoodReadsID': ''}\n",
      "{'Type': 'Vinyl LP', 'Title': 'Then Play oN', 'Artist_Author': 'Fleetwood Mac', 'Genre': 'Rock', 'Quantity': '1', 'Price': '18.99', 'Discogs_GoodReadsID': ''}\n",
      "{'Type': 'Vinyl LP', 'Title': '1967 - 1970', 'Artist_Author': 'Beatles, the', 'Genre': 'Rock', 'Quantity': '4', 'Price': '49.99', 'Discogs_GoodReadsID': ''}\n",
      "{'Type': 'Vinyl LP', 'Title': \"Who's Next (Deluxe)\", 'Artist_Author': 'Who, the', 'Genre': 'Rock', 'Quantity': '3', 'Price': '35.99', 'Discogs_GoodReadsID': ''}\n",
      "{'Type': 'Vinyl LP', 'Title': 'Quadrophenia', 'Artist_Author': 'Who, the', 'Genre': 'Rock', 'Quantity': '2', 'Price': '35.99', 'Discogs_GoodReadsID': ''}\n",
      "{'Type': 'Vinyl LP', 'Title': 'Harmony of Difference', 'Artist_Author': 'Washington, Kamasi', 'Genre': 'Jazz', 'Quantity': '4', 'Price': '12.99', 'Discogs_GoodReadsID': ''}\n",
      "{'Type': 'Vinyl LP', 'Title': 'Weather Report', 'Artist_Author': 'Weather Report', 'Genre': 'Jazz', 'Quantity': '2', 'Price': '25.99', 'Discogs_GoodReadsID': ''}\n",
      "{'Type': 'Vinyl LP', 'Title': 'Components', 'Artist_Author': 'Bobby Hutcherson', 'Genre': 'Jazz', 'Quantity': '3', 'Price': '25.99', 'Discogs_GoodReadsID': ''}\n",
      "{'Type': 'Vinyl LP', 'Title': 'Heaven and earth and the Stars', 'Artist_Author': 'Lulu', 'Genre': 'Pop', 'Quantity': '3', 'Price': '29.99', 'Discogs_GoodReadsID': ''}\n"
     ]
    }
   ],
   "source": [
    "stock = stock[1:]\n",
    "for row in stock:\n",
    "    print(convertToDictionary(row))"
   ]
  },
  {
   "cell_type": "code",
   "execution_count": null,
   "metadata": {},
   "outputs": [],
   "source": []
  },
  {
   "cell_type": "code",
   "execution_count": 19,
   "metadata": {},
   "outputs": [
    {
     "data": {
      "text/plain": [
       "{'Type': 'Vinyl LP',\n",
       " 'Title': 'In the Land of Grey and Pink',\n",
       " 'Artist_Author': 'Caravan',\n",
       " 'Genre': 'Progressive/Jazz Rock',\n",
       " 'Quantity': 7,\n",
       " 'Price': 24.99,\n",
       " 'Discogs_GoodReadsID': ' '}"
      ]
     },
     "execution_count": 19,
     "metadata": {},
     "output_type": "execute_result"
    }
   ],
   "source": [
    "obj1 = {\"Type\":\"Vinyl LP\",\"Title\":\"In the Land of Grey and Pink\",\"Artist_Author\":\"Caravan\",\"Genre\":\"Progressive/Jazz Rock\",\"Quantity\":7,\"Price\":24.99,\"Discogs_GoodReadsID\":\" \"}\n",
    "obj1"
   ]
  },
  {
   "cell_type": "code",
   "execution_count": 20,
   "metadata": {},
   "outputs": [
    {
     "data": {
      "text/plain": [
       "('Vinyl LP',\n",
       " 'In the Land of Grey and Pink',\n",
       " 'Caravan',\n",
       " 'Progressive/Jazz Rock',\n",
       " 7,\n",
       " 24.99,\n",
       " ' ')"
      ]
     },
     "execution_count": 20,
     "metadata": {},
     "output_type": "execute_result"
    }
   ],
   "source": [
    "tuple(list(obj1.values()))"
   ]
  },
  {
   "cell_type": "code",
   "execution_count": 10,
   "metadata": {},
   "outputs": [
    {
     "name": "stdout",
     "output_type": "stream",
     "text": [
      "Data =  {'Type': 'Book', 'Title': 'Days Without End', 'Artist_Author': 'Barry, Sebastian', 'Genre': 'Fiction', 'Quantity': 10, 'Price': 10.99, 'Discogs_GoodReadsID': ''}\n",
      "Values  ('Book', 'Days Without End', 'Barry, Sebastian', 'Fiction', 10, 10.99, '')\n"
     ]
    }
   ],
   "source": [
    "data = {\"Type\":\"Book\",\"Title\":\"Days Without End\",\"Artist_Author\":\"Barry, Sebastian\",\"Genre\":\"Fiction\",\"Quantity\":10,\"Price\":10.99,\"Discogs_GoodReadsID\":\"\"}\n",
    "\n",
    "print(\"Data = \",data)\n",
    "\n",
    "# newItem = {\"Type\":data['Type'],\"Title\":data['Title'],\"Artist_Author\":data['Artist_Author'],\"Genre\":data['Genre'],\"Quantity\":data['Quantity'],\"Price\":data['Price'],\"Discogs_GoodReadsID\":data['Discogs_GoodReadsID']}\n",
    "\n",
    "# print(\"New Item = \", newItem)\n",
    "# values = (newItem['Type'],newItem['Title'],newItem['Artist_Author'],newItem['Genre'],newItem['Quantity'],newItem['Price'],newItem['Discogs_GoodReadsID'])\n",
    "\n",
    "values = tuple(list(data.values()))\n",
    "\n",
    "print(\"Values \", values)\n",
    "\n",
    "# sql = \"insert into stock (Type, Title, Artist_Author, Genre, Quantity, Price, Discogs_GoodReadsID) values (%s, %s,%s, %s, %s, %s, %s)\"\n",
    "# myCursor.execute(sql, values)\n",
    "# mydb.commit()\n",
    "\n",
    "# print(\"newItem = \", newItem)"
   ]
  },
  {
   "cell_type": "code",
   "execution_count": null,
   "metadata": {},
   "outputs": [],
   "source": []
  },
  {
   "cell_type": "code",
   "execution_count": 30,
   "metadata": {},
   "outputs": [],
   "source": [
    "foundItem = {\"id\":2, \"Type\":\"Book\",\"Title\":\"Machines Like Me\",\"Artist_Author\":\"McEwan, Ian\",\"Genre\":\"Fiction\",\"Quantity\":7,\"Price\":12.99,\"Discogs_GoodReadsID\":\"\"}\n",
    "    \n",
    "reqJSON = {\"Discogs_GoodReadsID\":\"14353\"}\n",
    "if 'Type' in reqJSON: # and type(reqJSON['Type']) is str:\n",
    "    foundItem['Type'] = reqJSON['Type']\n",
    "if 'Title' in reqJSON: # and type(reqJSON['Title']) is str:\n",
    "    foundItem['Title'] = reqJSON['Title']\n",
    "if 'Artist_Author' in reqJSON: # and type(reqJSON['Artist_Author']) is str:\n",
    "    foundItem['Artist_Author'] = reqJSON['Artist_Author']\n",
    "if 'Genre' in reqJSON: # and type(reqJSON['Genre']) is str:\n",
    "    foundItem['Genre'] = reqJSON['Genre']\n",
    "if 'Quantity' in reqJSON: # and type(reqJSON['Quantity']) is int:\n",
    "    foundItem['Quantity'] = reqJSON['Quantity']    \n",
    "if 'Price' in reqJSON: # and type(reqJSON['Price']) is float:\n",
    "    foundItem['Price'] = reqJSON['Price']\n",
    "if 'Discogs_GoodReadsID' in reqJSON: # and type(reqJSON['Discogs_GoodReadsID']) is str:\n",
    "    foundItem['Discogs_GoodReadsID'] = reqJSON['Discogs_GoodReadsID']\n",
    "foundItem['id'] =7\n",
    "    \n",
    "values = (foundItem['Type'],foundItem['Title'],foundItem['Artist_Author'],foundItem['Genre'],foundItem['Quantity'],foundItem['Price'],foundItem['Discogs_GoodReadsID'], foundItem['id'])\n"
   ]
  },
  {
   "cell_type": "code",
   "execution_count": 31,
   "metadata": {},
   "outputs": [
    {
     "data": {
      "text/plain": [
       "('Book', 'Machines Like Me', 'McEwan, Ian', 'Fiction', 7, 12.99, '14353', 7)"
      ]
     },
     "execution_count": 31,
     "metadata": {},
     "output_type": "execute_result"
    }
   ],
   "source": [
    "values"
   ]
  },
  {
   "cell_type": "code",
   "execution_count": 34,
   "metadata": {},
   "outputs": [
    {
     "name": "stdout",
     "output_type": "stream",
     "text": [
      "<class 'str'>\n",
      "<class 'str'>\n",
      "<class 'str'>\n",
      "<class 'str'>\n",
      "<class 'int'>\n",
      "<class 'float'>\n",
      "<class 'str'>\n",
      "<class 'int'>\n"
     ]
    }
   ],
   "source": [
    "for c in values:\n",
    "    print(type(c))"
   ]
  },
  {
   "cell_type": "code",
   "execution_count": null,
   "metadata": {},
   "outputs": [],
   "source": []
  }
 ],
 "metadata": {
  "kernelspec": {
   "display_name": "Python 3",
   "language": "python",
   "name": "python3"
  },
  "language_info": {
   "codemirror_mode": {
    "name": "ipython",
    "version": 3
   },
   "file_extension": ".py",
   "mimetype": "text/x-python",
   "name": "python",
   "nbconvert_exporter": "python",
   "pygments_lexer": "ipython3",
   "version": "3.6.9"
  }
 },
 "nbformat": 4,
 "nbformat_minor": 2
}
